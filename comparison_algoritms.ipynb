{
 "cells": [
  {
   "cell_type": "code",
   "execution_count": 4,
   "metadata": {},
   "outputs": [],
   "source": [
    "from utils.fibonachi import fibonach_rec, fibonachi_iter\n",
    "from time import time"
   ]
  },
  {
   "cell_type": "code",
   "execution_count": 5,
   "metadata": {},
   "outputs": [],
   "source": [
    "def results_alg(func, n: int) -> tuple:\n",
    "    time_start = time()\n",
    "    result, count = func(n)\n",
    "    time_end = time()\n",
    "    return result, count, time_end - time_start"
   ]
  },
  {
   "cell_type": "code",
   "execution_count": 6,
   "metadata": {},
   "outputs": [
    {
     "ename": "TypeError",
     "evalue": "cannot unpack non-iterable int object",
     "output_type": "error",
     "traceback": [
      "\u001b[1;31m---------------------------------------------------------------------------\u001b[0m",
      "\u001b[1;31mTypeError\u001b[0m                                 Traceback (most recent call last)",
      "Cell \u001b[1;32mIn[6], line 5\u001b[0m\n\u001b[0;32m      2\u001b[0m fibonachi_iter_results \u001b[38;5;241m=\u001b[39m []\n\u001b[0;32m      4\u001b[0m \u001b[38;5;28;01mfor\u001b[39;00m i \u001b[38;5;129;01min\u001b[39;00m \u001b[38;5;28mrange\u001b[39m(\u001b[38;5;241m30\u001b[39m):\n\u001b[1;32m----> 5\u001b[0m     result_iter \u001b[38;5;241m=\u001b[39m \u001b[43mresults_alg\u001b[49m\u001b[43m(\u001b[49m\u001b[43mfunc\u001b[49m\u001b[38;5;241;43m=\u001b[39;49m\u001b[43mfibonachi_iter\u001b[49m\u001b[43m,\u001b[49m\u001b[43m \u001b[49m\u001b[43mn\u001b[49m\u001b[38;5;241;43m=\u001b[39;49m\u001b[43mi\u001b[49m\u001b[43m)\u001b[49m\n\u001b[0;32m      6\u001b[0m     fibonachi_iter_results\u001b[38;5;241m.\u001b[39mappend(result_iter)\n\u001b[0;32m      8\u001b[0m     result_rec \u001b[38;5;241m=\u001b[39m results_alg(func\u001b[38;5;241m=\u001b[39mfibonach_rec, n\u001b[38;5;241m=\u001b[39mi)\n",
      "Cell \u001b[1;32mIn[5], line 3\u001b[0m, in \u001b[0;36mresults_alg\u001b[1;34m(func, n)\u001b[0m\n\u001b[0;32m      1\u001b[0m \u001b[38;5;28;01mdef\u001b[39;00m \u001b[38;5;21mresults_alg\u001b[39m(func, n: \u001b[38;5;28mint\u001b[39m) \u001b[38;5;241m-\u001b[39m\u001b[38;5;241m>\u001b[39m \u001b[38;5;28mtuple\u001b[39m:\n\u001b[0;32m      2\u001b[0m     time_start \u001b[38;5;241m=\u001b[39m time()\n\u001b[1;32m----> 3\u001b[0m     result, count \u001b[38;5;241m=\u001b[39m func(n)\n\u001b[0;32m      4\u001b[0m     time_end \u001b[38;5;241m=\u001b[39m time()\n\u001b[0;32m      5\u001b[0m     \u001b[38;5;28;01mreturn\u001b[39;00m result, count, time_end \u001b[38;5;241m-\u001b[39m time_start\n",
      "\u001b[1;31mTypeError\u001b[0m: cannot unpack non-iterable int object"
     ]
    }
   ],
   "source": [
    "fibonach_rec_results = []\n",
    "fibonachi_iter_results = []\n",
    "\n",
    "for i in range(30):\n",
    "    result_iter = results_alg(func=fibonachi_iter, n=i)\n",
    "    fibonachi_iter_results.append(result_iter)\n",
    "\n",
    "    result_rec = results_alg(func=fibonach_rec, n=i)\n",
    "    fibonach_rec_results.append(result_rec)"
   ]
  },
  {
   "cell_type": "code",
   "execution_count": null,
   "metadata": {},
   "outputs": [],
   "source": []
  },
  {
   "cell_type": "code",
   "execution_count": null,
   "metadata": {},
   "outputs": [],
   "source": []
  }
 ],
 "metadata": {
  "kernelspec": {
   "display_name": "Python 3",
   "language": "python",
   "name": "python3"
  },
  "language_info": {
   "codemirror_mode": {
    "name": "ipython",
    "version": 3
   },
   "file_extension": ".py",
   "mimetype": "text/x-python",
   "name": "python",
   "nbconvert_exporter": "python",
   "pygments_lexer": "ipython3",
   "version": "3.12.6"
  }
 },
 "nbformat": 4,
 "nbformat_minor": 2
}
